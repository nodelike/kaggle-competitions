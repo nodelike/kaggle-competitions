{
 "cells": [
  {
   "cell_type": "code",
   "execution_count": 1,
   "id": "37293220-41f5-453b-a884-f65fcd451564",
   "metadata": {},
   "outputs": [
    {
     "name": "stdout",
     "output_type": "stream",
     "text": [
      "data/test.csv\n",
      "data/train.csv\n",
      "data/sample_submission.csv\n"
     ]
    }
   ],
   "source": [
    "import numpy as np\n",
    "import pandas as pd\n",
    "import torch\n",
    "import os\n",
    "\n",
    "for dirname, _, filenames in os.walk('data/'):\n",
    "    for filename in filenames:\n",
    "        print(os.path.join(dirname, filename))"
   ]
  },
  {
   "cell_type": "code",
   "execution_count": 2,
   "id": "60cab67b-c2cd-409b-8e7f-efe0513055f0",
   "metadata": {},
   "outputs": [
    {
     "name": "stderr",
     "output_type": "stream",
     "text": [
      "/var/folders/zs/5d7ptdmj0cg4xl426n5xdzt00000gn/T/ipykernel_38793/4202099857.py:9: FutureWarning: The default of observed=False is deprecated and will be changed to True in a future version of pandas. Pass observed=False to retain current behavior or observed=True to adopt the future default and silence this warning.\n",
      "  df[['AgeBin','Exited']].groupby(['AgeBin'],as_index=False).mean().sort_values(by='AgeBin',ascending=True)\n",
      "/var/folders/zs/5d7ptdmj0cg4xl426n5xdzt00000gn/T/ipykernel_38793/4202099857.py:10: FutureWarning: The default of observed=False is deprecated and will be changed to True in a future version of pandas. Pass observed=False to retain current behavior or observed=True to adopt the future default and silence this warning.\n",
      "  df[['BalanceBin','Exited']].groupby(['BalanceBin'],as_index=False).mean().sort_values(by='BalanceBin',ascending=True)\n",
      "/var/folders/zs/5d7ptdmj0cg4xl426n5xdzt00000gn/T/ipykernel_38793/4202099857.py:11: FutureWarning: The default of observed=False is deprecated and will be changed to True in a future version of pandas. Pass observed=False to retain current behavior or observed=True to adopt the future default and silence this warning.\n",
      "  df[['EstimatedSalaryBin','Exited']].groupby(['EstimatedSalaryBin'],as_index=False).mean().sort_values(by='EstimatedSalaryBin',ascending=True)\n",
      "/var/folders/zs/5d7ptdmj0cg4xl426n5xdzt00000gn/T/ipykernel_38793/4202099857.py:12: FutureWarning: The default of observed=False is deprecated and will be changed to True in a future version of pandas. Pass observed=False to retain current behavior or observed=True to adopt the future default and silence this warning.\n",
      "  df[['CreditScoreBin','Exited']].groupby(['CreditScoreBin'],as_index=False).mean().sort_values(by='CreditScoreBin',ascending=True)\n"
     ]
    }
   ],
   "source": [
    "from sklearn.preprocessing import LabelEncoder\n",
    "df = pd.read_csv(\"data/train.csv\")\n",
    "\n",
    "df['AgeBin']=pd.cut(df['Age'],5)\n",
    "df['BalanceBin']=pd.cut(df['Balance'],5)\n",
    "df['CreditScoreBin']=pd.cut(df['CreditScore'],5)\n",
    "df['EstimatedSalaryBin']=pd.cut(df['EstimatedSalary'],5)\n",
    "\n",
    "df[['AgeBin','Exited']].groupby(['AgeBin'],as_index=False).mean().sort_values(by='AgeBin',ascending=True)\n",
    "df[['BalanceBin','Exited']].groupby(['BalanceBin'],as_index=False).mean().sort_values(by='BalanceBin',ascending=True)\n",
    "df[['EstimatedSalaryBin','Exited']].groupby(['EstimatedSalaryBin'],as_index=False).mean().sort_values(by='EstimatedSalaryBin',ascending=True)\n",
    "df[['CreditScoreBin','Exited']].groupby(['CreditScoreBin'],as_index=False).mean().sort_values(by='CreditScoreBin',ascending=True)\n",
    "\n",
    "le=LabelEncoder()\n",
    "df['AgeCode']=le.fit_transform(df['AgeBin'])\n",
    "df['BalanceCode']=le.fit_transform(df['BalanceBin'])\n",
    "df['CreditScoreCode']=le.fit_transform(df['CreditScoreBin'])\n",
    "df['EstimatedSalaryCode']=le.fit_transform(df['EstimatedSalaryBin'])\n",
    "\n",
    "df.drop(['AgeBin','BalanceBin','CreditScoreBin','EstimatedSalaryBin','CreditScore','Age','Balance','EstimatedSalary'], inplace=True, axis=1)\n",
    "\n",
    "X = df.drop(['Surname', 'id', 'CustomerId', 'Exited'], axis=1)\n",
    "\n",
    "X['Gender'] = X['Gender'].map({'Male': 0, 'Female': 1})\n",
    "X['Geography'] = X['Geography'].map({'France': 0, 'Spain': 1, 'Germany': 2})\n",
    "X.fillna(0, inplace=True)\n",
    "\n",
    "X = torch.tensor(X.values, dtype=torch.float32)\n",
    "y = torch.tensor(df['Exited'].values, dtype=torch.float32)\n",
    "\n",
    "#STANDARDIZATION (Disable later and check how it affects accuracy)\n",
    "X = (X - torch.mean(X, dim=0)) / torch.std(X, dim=0)"
   ]
  },
  {
   "cell_type": "code",
   "execution_count": 3,
   "id": "f9d7e244-9007-44c1-8bd6-d2e13390e7ac",
   "metadata": {},
   "outputs": [],
   "source": [
    "from sklearn.ensemble import RandomForestClassifier\n",
    "\n",
    "rf = RandomForestClassifier()\n",
    "\n",
    "from imblearn.over_sampling import RandomOverSampler\n",
    "ros = RandomOverSampler()\n",
    "X_resampled, y_resampled = ros.fit_resample(X,y)\n",
    "rfModel = rf.fit(X_resampled, y_resampled)"
   ]
  },
  {
   "cell_type": "code",
   "execution_count": 6,
   "id": "79d58d4d-d392-4353-ab72-02834b73f293",
   "metadata": {},
   "outputs": [
    {
     "data": {
      "text/plain": [
       "(array([0., 1.], dtype=float32), array([130113, 130113]))"
      ]
     },
     "execution_count": 6,
     "metadata": {},
     "output_type": "execute_result"
    }
   ],
   "source": []
  },
  {
   "cell_type": "code",
   "execution_count": 4,
   "id": "4862fe63-dbb1-4596-8341-8385701c6717",
   "metadata": {},
   "outputs": [
    {
     "data": {
      "text/plain": [
       "0.8501649088361211"
      ]
     },
     "execution_count": 4,
     "metadata": {},
     "output_type": "execute_result"
    }
   ],
   "source": [
    "from sklearn.model_selection import cross_val_score\n",
    "\n",
    "scores = cross_val_score(rf, X_resampled, y_resampled, cv=10, scoring=\"accuracy\")\n",
    "scores.mean()"
   ]
  },
  {
   "cell_type": "code",
   "execution_count": 8,
   "id": "3c623a11-9ef1-43ac-96b2-1b890d18f576",
   "metadata": {},
   "outputs": [],
   "source": [
    "rfModel = rf.fit(X_resampled, y_resampled)"
   ]
  },
  {
   "cell_type": "markdown",
   "id": "66dabe8c-5874-4a36-9ab8-226170ffafc8",
   "metadata": {},
   "source": [
    "# Evaluation/Testing: "
   ]
  },
  {
   "cell_type": "code",
   "execution_count": 64,
   "id": "c36f9a2c-f045-4d88-a391-ee3a7f0736d5",
   "metadata": {},
   "outputs": [
    {
     "name": "stderr",
     "output_type": "stream",
     "text": [
      "/var/folders/zs/5d7ptdmj0cg4xl426n5xdzt00000gn/T/ipykernel_38793/4202099857.py:9: FutureWarning: The default of observed=False is deprecated and will be changed to True in a future version of pandas. Pass observed=False to retain current behavior or observed=True to adopt the future default and silence this warning.\n",
      "  df[['AgeBin','Exited']].groupby(['AgeBin'],as_index=False).mean().sort_values(by='AgeBin',ascending=True)\n",
      "/var/folders/zs/5d7ptdmj0cg4xl426n5xdzt00000gn/T/ipykernel_38793/4202099857.py:10: FutureWarning: The default of observed=False is deprecated and will be changed to True in a future version of pandas. Pass observed=False to retain current behavior or observed=True to adopt the future default and silence this warning.\n",
      "  df[['BalanceBin','Exited']].groupby(['BalanceBin'],as_index=False).mean().sort_values(by='BalanceBin',ascending=True)\n",
      "/var/folders/zs/5d7ptdmj0cg4xl426n5xdzt00000gn/T/ipykernel_38793/4202099857.py:11: FutureWarning: The default of observed=False is deprecated and will be changed to True in a future version of pandas. Pass observed=False to retain current behavior or observed=True to adopt the future default and silence this warning.\n",
      "  df[['EstimatedSalaryBin','Exited']].groupby(['EstimatedSalaryBin'],as_index=False).mean().sort_values(by='EstimatedSalaryBin',ascending=True)\n",
      "/var/folders/zs/5d7ptdmj0cg4xl426n5xdzt00000gn/T/ipykernel_38793/4202099857.py:12: FutureWarning: The default of observed=False is deprecated and will be changed to True in a future version of pandas. Pass observed=False to retain current behavior or observed=True to adopt the future default and silence this warning.\n",
      "  df[['CreditScoreBin','Exited']].groupby(['CreditScoreBin'],as_index=False).mean().sort_values(by='CreditScoreBin',ascending=True)\n"
     ]
    }
   ],
   "source": [
    "from sklearn.preprocessing import LabelEncoder\n",
    "df = pd.read_csv(\"data/train.csv\")\n",
    "\n",
    "df['AgeBin']=pd.cut(df['Age'],5)\n",
    "df['BalanceBin']=pd.cut(df['Balance'],5)\n",
    "df['CreditScoreBin']=pd.cut(df['CreditScore'],5)\n",
    "df['EstimatedSalaryBin']=pd.cut(df['EstimatedSalary'],5)\n",
    "\n",
    "df[['AgeBin','Exited']].groupby(['AgeBin'],as_index=False).mean().sort_values(by='AgeBin',ascending=True)\n",
    "df[['BalanceBin','Exited']].groupby(['BalanceBin'],as_index=False).mean().sort_values(by='BalanceBin',ascending=True)\n",
    "df[['EstimatedSalaryBin','Exited']].groupby(['EstimatedSalaryBin'],as_index=False).mean().sort_values(by='EstimatedSalaryBin',ascending=True)\n",
    "df[['CreditScoreBin','Exited']].groupby(['CreditScoreBin'],as_index=False).mean().sort_values(by='CreditScoreBin',ascending=True)\n",
    "\n",
    "le=LabelEncoder()\n",
    "df['AgeCode']=le.fit_transform(df['AgeBin'])\n",
    "df['BalanceCode']=le.fit_transform(df['BalanceBin'])\n",
    "df['CreditScoreCode']=le.fit_transform(df['CreditScoreBin'])\n",
    "df['EstimatedSalaryCode']=le.fit_transform(df['EstimatedSalaryBin'])\n",
    "\n",
    "df.drop(['AgeBin','BalanceBin','CreditScoreBin','EstimatedSalaryBin','CreditScore','Age','Balance','EstimatedSalary'], inplace=True, axis=1)\n",
    "\n",
    "X = df.drop(['Surname', 'id', 'CustomerId', 'Exited'], axis=1)\n",
    "\n",
    "X['Gender'] = X['Gender'].map({'Male': 0, 'Female': 1})\n",
    "X['Geography'] = X['Geography'].map({'France': 0, 'Spain': 1, 'Germany': 2})\n",
    "X.fillna(0, inplace=True)\n",
    "\n",
    "X = torch.tensor(X.values, dtype=torch.float32)\n",
    "y = torch.tensor(df['Exited'].values, dtype=torch.float32)\n",
    "\n",
    "#STANDARDIZATION (Disable later and check how it affects accuracy)\n",
    "X = (X - torch.mean(X, dim=0)) / torch.std(X, dim=0)"
   ]
  },
  {
   "cell_type": "code",
   "execution_count": 82,
   "id": "977c6770-67b4-4c3e-b52d-41dd46a383e1",
   "metadata": {},
   "outputs": [],
   "source": [
    "df = pd.read_csv(\"data/test.csv\")\n",
    "\n",
    "y_test = df['id']\n",
    "df['AgeBin']=pd.cut(df['Age'],5)\n",
    "df['BalanceBin']=pd.cut(df['Balance'],5)\n",
    "df['CreditScoreBin']=pd.cut(df['CreditScore'],5)\n",
    "df['EstimatedSalaryBin']=pd.cut(df['EstimatedSalary'],5)\n",
    "\n",
    "le=LabelEncoder()\n",
    "df['AgeCode']=le.fit_transform(df['AgeBin'])\n",
    "df['BalanceCode']=le.fit_transform(df['BalanceBin'])\n",
    "df['CreditScoreCode']=le.fit_transform(df['CreditScoreBin'])\n",
    "df['EstimatedSalaryCode']=le.fit_transform(df['EstimatedSalaryBin'])\n",
    "\n",
    "df.drop(['AgeBin','BalanceBin','CreditScoreBin','EstimatedSalaryBin','CreditScore','Age','Balance','EstimatedSalary'], inplace=True, axis=1)\n",
    "\n",
    "X = df.drop(['Surname', 'id', 'CustomerId'], axis=1)\n",
    "\n",
    "X['Gender'] = X['Gender'].map({'Male': 0, 'Female': 1})\n",
    "X['Geography'] = X['Geography'].map({'France': 0, 'Spain': 1, 'Germany': 2})\n",
    "X.fillna(0, inplace=True)\n",
    "\n",
    "X = torch.tensor(X.values, dtype=torch.float32)\n",
    "\n",
    "#STANDARDIZATION (Disable later and check how it affects accuracy)\n",
    "X = (X - torch.mean(X, dim=0)) / torch.std(X, dim=0)"
   ]
  },
  {
   "cell_type": "code",
   "execution_count": 65,
   "id": "b3bd2254-57df-4fec-bf74-459255c734c7",
   "metadata": {},
   "outputs": [
    {
     "data": {
      "text/plain": [
       "tensor([1., 0., 0., 1., 0., 0., 0., 1., 0., 1.])"
      ]
     },
     "execution_count": 65,
     "metadata": {},
     "output_type": "execute_result"
    }
   ],
   "source": [
    "y[25:35]"
   ]
  },
  {
   "cell_type": "code",
   "execution_count": 85,
   "id": "980abb57-5401-4273-9b9e-c6ef62a28ab8",
   "metadata": {},
   "outputs": [],
   "source": [
    "preds = rfModel.predict(X)"
   ]
  },
  {
   "cell_type": "code",
   "execution_count": 86,
   "id": "b43e49d2-e16c-4afc-bf54-f55445498d9e",
   "metadata": {},
   "outputs": [],
   "source": [
    "preds = np.round(preds, decimals=1)"
   ]
  },
  {
   "cell_type": "code",
   "execution_count": 88,
   "id": "a6d6dcc9-b3c8-4beb-b4b2-3cf181803ca3",
   "metadata": {},
   "outputs": [],
   "source": [
    "predictions = preds.tolist()\n"
   ]
  },
  {
   "cell_type": "code",
   "execution_count": 90,
   "id": "9d0be676-091e-4ccf-a692-333ba67d9a84",
   "metadata": {},
   "outputs": [
    {
     "data": {
      "text/plain": [
       "[1.0, 1.0, 1.0, 0.0, 1.0, 0.0, 0.0, 0.0, 0.0, 0.0]"
      ]
     },
     "execution_count": 90,
     "metadata": {},
     "output_type": "execute_result"
    }
   ],
   "source": [
    "predictions[25:35]"
   ]
  },
  {
   "cell_type": "code",
   "execution_count": 91,
   "id": "831ecdc2-fa17-440e-88c8-deffb03316c3",
   "metadata": {},
   "outputs": [],
   "source": [
    "predictionsDF = pd.DataFrame({'id': y_test.values, 'Exited': predictions})"
   ]
  },
  {
   "cell_type": "code",
   "execution_count": 92,
   "id": "ccb107a8-f5f7-46da-a2ec-c81ca6fef721",
   "metadata": {},
   "outputs": [],
   "source": [
    "predictionsDF.to_csv('predictions1.csv', index=False)"
   ]
  },
  {
   "cell_type": "code",
   "execution_count": null,
   "id": "3df7510e-e0a8-418b-834a-aa3d0ee95477",
   "metadata": {},
   "outputs": [],
   "source": []
  }
 ],
 "metadata": {
  "kernelspec": {
   "display_name": "Python 3 (ipykernel)",
   "language": "python",
   "name": "python3"
  },
  "language_info": {
   "codemirror_mode": {
    "name": "ipython",
    "version": 3
   },
   "file_extension": ".py",
   "mimetype": "text/x-python",
   "name": "python",
   "nbconvert_exporter": "python",
   "pygments_lexer": "ipython3",
   "version": "3.12.1"
  }
 },
 "nbformat": 4,
 "nbformat_minor": 5
}
